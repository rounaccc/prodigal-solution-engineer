{
 "cells": [
  {
   "cell_type": "markdown",
   "id": "2094566c",
   "metadata": {},
   "source": [
    "# Call Metrics Visualization"
   ]
  },
  {
   "cell_type": "code",
   "execution_count": null,
   "id": "ec5b648b",
   "metadata": {},
   "outputs": [
    {
     "name": "stderr",
     "output_type": "stream",
     "text": [
      "2025-05-11 18:37:30.154 WARNING streamlit.runtime.scriptrunner_utils.script_run_context: Thread 'MainThread': missing ScriptRunContext! This warning can be ignored when running in bare mode.\n",
      "2025-05-11 18:37:30.400 \n",
      "  \u001b[33m\u001b[1mWarning:\u001b[0m to view this Streamlit app on a browser, run it with the following\n",
      "  command:\n",
      "\n",
      "    streamlit run c:\\Users\\Rounak\\Desktop\\OneDrive\\College\\Projects\\prodigal-solutions-engineer\\.venv\\lib\\site-packages\\ipykernel_launcher.py [ARGUMENTS]\n",
      "2025-05-11 18:37:30.401 Thread 'MainThread': missing ScriptRunContext! This warning can be ignored when running in bare mode.\n",
      "2025-05-11 18:37:30.402 Thread 'MainThread': missing ScriptRunContext! This warning can be ignored when running in bare mode.\n",
      "2025-05-11 18:37:30.403 Thread 'MainThread': missing ScriptRunContext! This warning can be ignored when running in bare mode.\n",
      "2025-05-11 18:37:30.403 Thread 'MainThread': missing ScriptRunContext! This warning can be ignored when running in bare mode.\n",
      "2025-05-11 18:37:30.404 Thread 'MainThread': missing ScriptRunContext! This warning can be ignored when running in bare mode.\n",
      "2025-05-11 18:37:30.404 Thread 'MainThread': missing ScriptRunContext! This warning can be ignored when running in bare mode.\n"
     ]
    }
   ],
   "source": [
    "import json\n",
    "import matplotlib.pyplot as plt\n",
    "\n",
    "def compute_silence_and_overtalk(convo):\n",
    "    silence_durations = []\n",
    "    overtalk_durations = []\n",
    "\n",
    "    for i in range(len(convo) - 1):\n",
    "        current = convo[i]\n",
    "        next_ = convo[i + 1]\n",
    "\n",
    "        gap = next_[\"stime\"] - current[\"etime\"]\n",
    "        if gap > 0:\n",
    "            silence_durations.append(gap)\n",
    "        elif gap < 0:\n",
    "            overtalk_durations.append(-gap)\n",
    "\n",
    "    total_silence = sum(silence_durations)\n",
    "    total_overtalk = sum(overtalk_durations)\n",
    "    \n",
    "    return total_silence, total_overtalk, silence_durations, overtalk_durations\n",
    "\n",
    "def plot_silence_overtalk_chart(silence, overtalk):\n",
    "    fig, ax = plt.subplots()\n",
    "    ax.bar([\"Silence\", \"Overtalk\"], [silence, overtalk], color=[\"skyblue\", \"salmon\"])\n",
    "    ax.set_ylabel(\"Seconds\")\n",
    "    ax.set_title(\"Total Silence and Overtalk Duration\")\n",
    "    st.pyplot(fig)\n",
    "\n",
    "def visualize_conversation_timeline(convo):\n",
    "    fig, ax = plt.subplots(figsize=(10, 2))\n",
    "    \n",
    "    for i, entry in enumerate(convo):\n",
    "        color = \"blue\" if entry[\"speaker\"] == \"Agent\" else \"green\"\n",
    "        ax.hlines(y=1 if entry[\"speaker\"] == \"Agent\" else 0, xmin=entry[\"stime\"], xmax=entry[\"etime\"],\n",
    "                  colors=color, linewidth=8, label=entry[\"speaker\"] if i == 0 or convo[i - 1][\"speaker\"] != entry[\"speaker\"] else \"\")\n",
    "    \n",
    "    ax.set_yticks([0, 1])\n",
    "    ax.set_yticklabels([\"Customer\", \"Agent\"])\n",
    "    ax.set_xlabel(\"Time (s)\")\n",
    "    ax.set_title(\"Conversation Timeline\")\n",
    "    ax.grid(True)\n",
    "    st.pyplot(fig)\n",
    "\n"
   ]
  },
  {
   "cell_type": "code",
   "execution_count": null,
   "id": "f8801ff3",
   "metadata": {},
   "outputs": [],
   "source": []
  }
 ],
 "metadata": {
  "kernelspec": {
   "display_name": ".venv",
   "language": "python",
   "name": "python3"
  },
  "language_info": {
   "codemirror_mode": {
    "name": "ipython",
    "version": 3
   },
   "file_extension": ".py",
   "mimetype": "text/x-python",
   "name": "python",
   "nbconvert_exporter": "python",
   "pygments_lexer": "ipython3",
   "version": "3.8.0"
  }
 },
 "nbformat": 4,
 "nbformat_minor": 5
}
