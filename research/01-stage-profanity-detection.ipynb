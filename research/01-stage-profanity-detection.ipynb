{
 "cells": [
  {
   "cell_type": "markdown",
   "id": "136542be",
   "metadata": {},
   "source": [
    "# Profanity Detection\n",
    "\n",
    "1. Identify all the call ids where collection agents have used profane language.\n",
    "2. Identify all the call ids where borrowers have used profane language."
   ]
  },
  {
   "cell_type": "code",
   "execution_count": null,
   "id": "c3a6bd9e",
   "metadata": {
    "vscode": {
     "languageId": "plaintext"
    }
   },
   "outputs": [],
   "source": []
  }
 ],
 "metadata": {
  "language_info": {
   "name": "python"
  }
 },
 "nbformat": 4,
 "nbformat_minor": 5
}
